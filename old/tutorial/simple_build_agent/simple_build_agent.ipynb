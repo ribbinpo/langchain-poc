{
 "cells": [
  {
   "cell_type": "markdown",
   "metadata": {},
   "source": [
    "# Build Agent\n",
    "Agents are systems that use LLMs as reasoning engines to determine which actions to take and the inputs to pass them.\n",
    "\n",
    "Concept\n",
    "- Use language models tool calling ability\n",
    "- Use search tool to lookup information from internet\n",
    "- Compose LangGraph Agent to determine actions\n",
    "- Debug with langsmith"
   ]
  },
  {
   "cell_type": "code",
   "execution_count": null,
   "metadata": {},
   "outputs": [],
   "source": [
    "%pip install -U langchain-community langgraph langchain-anthropic tavily-python"
   ]
  },
  {
   "cell_type": "code",
   "execution_count": 2,
   "metadata": {},
   "outputs": [],
   "source": [
    "# setup langsmith\n",
    "import getpass\n",
    "import os\n",
    "\n",
    "os.environ[\"LANGCHAIN_TRACING_V2\"] = \"true\"\n",
    "os.environ[\"LANGCHAIN_API_KEY\"] = getpass.getpass()"
   ]
  },
  {
   "cell_type": "code",
   "execution_count": 3,
   "metadata": {},
   "outputs": [],
   "source": [
    "# Tavily: (a search engine) as a tool\n",
    "import getpass\n",
    "import os\n",
    "\n",
    "os.environ[\"TAVILY_API_KEY\"] = getpass.getpass()"
   ]
  },
  {
   "cell_type": "code",
   "execution_count": 4,
   "metadata": {},
   "outputs": [
    {
     "name": "stdout",
     "output_type": "stream",
     "text": [
      "[{'url': 'https://www.weatherapi.com/', 'content': \"{'location': {'name': 'San Francisco', 'region': 'California', 'country': 'United States of America', 'lat': 37.78, 'lon': -122.42, 'tz_id': 'America/Los_Angeles', 'localtime_epoch': 1718483939, 'localtime': '2024-06-15 13:38'}, 'current': {'last_updated_epoch': 1718483400, 'last_updated': '2024-06-15 13:30', 'temp_c': 21.1, 'temp_f': 70.0, 'is_day': 1, 'condition': {'text': 'Partly cloudy', 'icon': '//cdn.weatherapi.com/weather/64x64/day/116.png', 'code': 1003}, 'wind_mph': 11.9, 'wind_kph': 19.1, 'wind_degree': 230, 'wind_dir': 'SW', 'pressure_mb': 1016.0, 'pressure_in': 30.01, 'precip_mm': 0.0, 'precip_in': 0.0, 'humidity': 46, 'cloud': 25, 'feelslike_c': 21.1, 'feelslike_f': 70.0, 'windchill_c': 17.3, 'windchill_f': 63.1, 'heatindex_c': 17.3, 'heatindex_f': 63.2, 'dewpoint_c': 7.9, 'dewpoint_f': 46.3, 'vis_km': 16.0, 'vis_miles': 9.0, 'uv': 5.0, 'gust_mph': 13.9, 'gust_kph': 22.4}}\"}, {'url': 'https://world-weather.info/forecast/usa/san_francisco/june-2024/', 'content': 'Extended weather forecast in San Francisco. Hourly Week 10 days 14 days 30 days Year. Detailed ⚡ San Francisco Weather Forecast for June 2024 - day/night 🌡️ temperatures, precipitations - World-Weather.info.'}]\n"
     ]
    }
   ],
   "source": [
    "# using community tools\n",
    "from langchain_community.tools.tavily_search import TavilySearchResults\n",
    "\n",
    "search = TavilySearchResults(max_results=2)\n",
    "search_results = search.invoke(\"what is the weather in SF\")\n",
    "print(search_results)"
   ]
  },
  {
   "cell_type": "code",
   "execution_count": 5,
   "metadata": {},
   "outputs": [],
   "source": [
    "# If we want, we can create other tools.\n",
    "# Once we have all the tools we want, we can put them in a list that we will reference later.\n",
    "tools = [search]"
   ]
  },
  {
   "cell_type": "code",
   "execution_count": 21,
   "metadata": {},
   "outputs": [
    {
     "data": {
      "text/plain": [
       "'Hello! How can I assist you today?'"
      ]
     },
     "execution_count": 21,
     "metadata": {},
     "output_type": "execute_result"
    }
   ],
   "source": [
    "# %pip install -qU langchain-openai\n",
    "import getpass\n",
    "import os\n",
    "\n",
    "os.environ[\"OPENAI_API_KEY\"] = getpass.getpass()\n",
    "\n",
    "from langchain_openai import ChatOpenAI\n",
    "model = ChatOpenAI(model=\"gpt-4\")\n",
    "from langchain_core.messages import HumanMessage\n",
    "\n",
    "response = model.invoke([HumanMessage(content=\"hi!\")])\n",
    "response.content"
   ]
  },
  {
   "cell_type": "code",
   "execution_count": 18,
   "metadata": {},
   "outputs": [
    {
     "data": {
      "text/plain": [
       "\"Hi there! It's nice to meet you. How can I help you today?\""
      ]
     },
     "execution_count": 18,
     "metadata": {},
     "output_type": "execute_result"
    }
   ],
   "source": [
    "# %pip install langchain-experimental\n",
    "# from langchain_experimental.llms.ollama_functions import OllamaFunctions\n",
    "# from langchain_core.messages import HumanMessage\n",
    "\n",
    "# model = OllamaFunctions(model=\"llama3\", format=\"json\")\n",
    "# response = model.invoke([HumanMessage(content=\"hi!\")])\n",
    "# response.content"
   ]
  },
  {
   "cell_type": "code",
   "execution_count": 22,
   "metadata": {},
   "outputs": [],
   "source": [
    "# In order to enable that we use .bind_tools to give the language model knowledge of these tools\n",
    "model_with_tools = model.bind_tools(tools)"
   ]
  },
  {
   "cell_type": "code",
   "execution_count": 23,
   "metadata": {},
   "outputs": [
    {
     "name": "stdout",
     "output_type": "stream",
     "text": [
      "ContentString: Hello! How can I assist you today?\n",
      "ToolCalls: []\n"
     ]
    }
   ],
   "source": [
    "# Try1: let's first call with normal messages.\n",
    "response = model_with_tools.invoke([HumanMessage(content=\"Hi!\")])\n",
    "\n",
    "print(f\"ContentString: {response.content}\")\n",
    "print(f\"ToolCalls: {response.tool_calls}\")"
   ]
  },
  {
   "cell_type": "code",
   "execution_count": 25,
   "metadata": {},
   "outputs": [
    {
     "name": "stdout",
     "output_type": "stream",
     "text": [
      "ContentString: content='' additional_kwargs={'tool_calls': [{'id': 'call_a3KglHoxCH65r10v9wNrjAcy', 'function': {'arguments': '{\\n  \"query\": \"current weather in San Francisco\"\\n}', 'name': 'tavily_search_results_json'}, 'type': 'function'}]} response_metadata={'token_usage': {'completion_tokens': 23, 'prompt_tokens': 88, 'total_tokens': 111}, 'model_name': 'gpt-4', 'system_fingerprint': None, 'finish_reason': 'tool_calls', 'logprobs': None} id='run-d706fe92-f162-4401-bc33-798b64996bf6-0' tool_calls=[{'name': 'tavily_search_results_json', 'args': {'query': 'current weather in San Francisco'}, 'id': 'call_a3KglHoxCH65r10v9wNrjAcy'}] usage_metadata={'input_tokens': 88, 'output_tokens': 23, 'total_tokens': 111}\n",
      "ToolCalls: [{'name': 'tavily_search_results_json', 'args': {'query': 'current weather in San Francisco'}, 'id': 'call_a3KglHoxCH65r10v9wNrjAcy'}]\n"
     ]
    }
   ],
   "source": [
    "# Try2: let's now call with a message that should trigger the search tool.\n",
    "response = model_with_tools.invoke([HumanMessage(content=\"What's the weather in SF?\")])\n",
    "\n",
    "print(f\"ContentString: {response.content}\")\n",
    "print(f\"ToolCalls: {response.tool_calls}\")"
   ]
  },
  {
   "cell_type": "markdown",
   "metadata": {},
   "source": [
    "## create your own agent\n",
    "Now that we have defined the tools and the LLM, we can create the agent. We will be using LangGraph to construct the agent.\n",
    "\n",
    "Note that we are passing in the `model`, not `model_with_tools`. That is because `create_react_agent` will call .`bind_tools` for us under the hood."
   ]
  },
  {
   "cell_type": "code",
   "execution_count": 31,
   "metadata": {},
   "outputs": [],
   "source": [
    "from langgraph.prebuilt import create_react_agent\n",
    "\n",
    "agent_executor = create_react_agent(model, tools)"
   ]
  },
  {
   "cell_type": "code",
   "execution_count": 27,
   "metadata": {},
   "outputs": [
    {
     "data": {
      "text/plain": [
       "[HumanMessage(content='hi!', id='8be03176-d4fe-4648-9a74-9617109be51d'),\n",
       " AIMessage(content='Hello! How can I assist you today?', response_metadata={'token_usage': {'completion_tokens': 10, 'prompt_tokens': 83, 'total_tokens': 93}, 'model_name': 'gpt-4', 'system_fingerprint': None, 'finish_reason': 'stop', 'logprobs': None}, id='run-62216ea8-8be1-42ca-afeb-d240ca7c98c6-0', usage_metadata={'input_tokens': 83, 'output_tokens': 10, 'total_tokens': 93})]"
      ]
     },
     "execution_count": 27,
     "metadata": {},
     "output_type": "execute_result"
    }
   ],
   "source": [
    "# run agent\n",
    "# these are all stateless queries (it won't remember previous interactions)\n",
    "response = agent_executor.invoke({\"messages\": [HumanMessage(content=\"hi!\")]})\n",
    "\n",
    "response[\"messages\"]"
   ]
  },
  {
   "cell_type": "code",
   "execution_count": 28,
   "metadata": {},
   "outputs": [
    {
     "data": {
      "text/plain": [
       "[HumanMessage(content='whats the weather in sf?', id='3a2281e7-b229-4a6c-bc87-e24d3cc5739d'),\n",
       " AIMessage(content='', additional_kwargs={'tool_calls': [{'id': 'call_AXLUv01ZF0F9zLNGuA5Gqjdv', 'function': {'arguments': '{\\n  \"query\": \"current weather in San Francisco\"\\n}', 'name': 'tavily_search_results_json'}, 'type': 'function'}]}, response_metadata={'token_usage': {'completion_tokens': 23, 'prompt_tokens': 88, 'total_tokens': 111}, 'model_name': 'gpt-4', 'system_fingerprint': None, 'finish_reason': 'tool_calls', 'logprobs': None}, id='run-a30889b6-ae02-4241-be9a-035eafd370c3-0', tool_calls=[{'name': 'tavily_search_results_json', 'args': {'query': 'current weather in San Francisco'}, 'id': 'call_AXLUv01ZF0F9zLNGuA5Gqjdv'}], usage_metadata={'input_tokens': 88, 'output_tokens': 23, 'total_tokens': 111}),\n",
       " ToolMessage(content='[{\"url\": \"https://www.weatherapi.com/\", \"content\": \"{\\'location\\': {\\'name\\': \\'San Francisco\\', \\'region\\': \\'California\\', \\'country\\': \\'United States of America\\', \\'lat\\': 37.78, \\'lon\\': -122.42, \\'tz_id\\': \\'America/Los_Angeles\\', \\'localtime_epoch\\': 1718515643, \\'localtime\\': \\'2024-06-15 22:27\\'}, \\'current\\': {\\'last_updated_epoch\\': 1718514900, \\'last_updated\\': \\'2024-06-15 22:15\\', \\'temp_c\\': 12.5, \\'temp_f\\': 54.5, \\'is_day\\': 0, \\'condition\\': {\\'text\\': \\'Clear\\', \\'icon\\': \\'//cdn.weatherapi.com/weather/64x64/night/113.png\\', \\'code\\': 1000}, \\'wind_mph\\': 6.3, \\'wind_kph\\': 10.1, \\'wind_degree\\': 272, \\'wind_dir\\': \\'W\\', \\'pressure_mb\\': 1014.0, \\'pressure_in\\': 29.93, \\'precip_mm\\': 0.0, \\'precip_in\\': 0.0, \\'humidity\\': 76, \\'cloud\\': 4, \\'feelslike_c\\': 11.5, \\'feelslike_f\\': 52.7, \\'windchill_c\\': 11.5, \\'windchill_f\\': 52.7, \\'heatindex_c\\': 12.5, \\'heatindex_f\\': 54.5, \\'dewpoint_c\\': 8.1, \\'dewpoint_f\\': 46.7, \\'vis_km\\': 10.0, \\'vis_miles\\': 6.0, \\'uv\\': 1.0, \\'gust_mph\\': 9.9, \\'gust_kph\\': 15.9}}\"}, {\"url\": \"https://world-weather.info/forecast/usa/san_francisco/june-2024/\", \"content\": \"Extended weather forecast in San Francisco. Hourly Week 10 days 14 days 30 days Year. Detailed \\\\u26a1 San Francisco Weather Forecast for June 2024 - day/night \\\\ud83c\\\\udf21\\\\ufe0f temperatures, precipitations - World-Weather.info.\"}]', name='tavily_search_results_json', id='4acc172d-df98-4e78-b97a-e21cb48d3a8e', tool_call_id='call_AXLUv01ZF0F9zLNGuA5Gqjdv'),\n",
       " AIMessage(content='The current weather in San Francisco, California, USA is clear. The temperature is 12.5°C (54.5°F) with a wind blowing from the west at a speed of 10.1 kph (6.3 mph). The humidity is at 76%. [Source](https://www.weatherapi.com/)', response_metadata={'token_usage': {'completion_tokens': 68, 'prompt_tokens': 619, 'total_tokens': 687}, 'model_name': 'gpt-4', 'system_fingerprint': None, 'finish_reason': 'stop', 'logprobs': None}, id='run-293f8066-7582-4cd7-9c63-0768f6764b67-0', usage_metadata={'input_tokens': 619, 'output_tokens': 68, 'total_tokens': 687})]"
      ]
     },
     "execution_count": 28,
     "metadata": {},
     "output_type": "execute_result"
    }
   ],
   "source": [
    "response = agent_executor.invoke(\n",
    "    {\"messages\": [HumanMessage(content=\"whats the weather in sf?\")]}\n",
    ")\n",
    "response[\"messages\"]"
   ]
  },
  {
   "cell_type": "markdown",
   "metadata": {},
   "source": [
    "## Streaming"
   ]
  },
  {
   "cell_type": "code",
   "execution_count": 32,
   "metadata": {},
   "outputs": [
    {
     "name": "stdout",
     "output_type": "stream",
     "text": [
      "{'agent': {'messages': [AIMessage(content='', additional_kwargs={'tool_calls': [{'id': 'call_ASkhAhmgLN43wfZlVxr5wqHO', 'function': {'arguments': '{\\n  \"query\": \"current weather in San Francisco\"\\n}', 'name': 'tavily_search_results_json'}, 'type': 'function'}]}, response_metadata={'token_usage': {'completion_tokens': 23, 'prompt_tokens': 88, 'total_tokens': 111}, 'model_name': 'gpt-4', 'system_fingerprint': None, 'finish_reason': 'tool_calls', 'logprobs': None}, id='run-b2ef5a72-f5eb-45a7-a20b-2495a3d0f4a5-0', tool_calls=[{'name': 'tavily_search_results_json', 'args': {'query': 'current weather in San Francisco'}, 'id': 'call_ASkhAhmgLN43wfZlVxr5wqHO'}], usage_metadata={'input_tokens': 88, 'output_tokens': 23, 'total_tokens': 111})]}}\n",
      "----\n",
      "{'tools': {'messages': [ToolMessage(content='[{\"url\": \"https://www.weatherapi.com/\", \"content\": \"{\\'location\\': {\\'name\\': \\'San Francisco\\', \\'region\\': \\'California\\', \\'country\\': \\'United States of America\\', \\'lat\\': 37.78, \\'lon\\': -122.42, \\'tz_id\\': \\'America/Los_Angeles\\', \\'localtime_epoch\\': 1718515643, \\'localtime\\': \\'2024-06-15 22:27\\'}, \\'current\\': {\\'last_updated_epoch\\': 1718514900, \\'last_updated\\': \\'2024-06-15 22:15\\', \\'temp_c\\': 12.5, \\'temp_f\\': 54.5, \\'is_day\\': 0, \\'condition\\': {\\'text\\': \\'Clear\\', \\'icon\\': \\'//cdn.weatherapi.com/weather/64x64/night/113.png\\', \\'code\\': 1000}, \\'wind_mph\\': 6.3, \\'wind_kph\\': 10.1, \\'wind_degree\\': 272, \\'wind_dir\\': \\'W\\', \\'pressure_mb\\': 1014.0, \\'pressure_in\\': 29.93, \\'precip_mm\\': 0.0, \\'precip_in\\': 0.0, \\'humidity\\': 76, \\'cloud\\': 4, \\'feelslike_c\\': 11.5, \\'feelslike_f\\': 52.7, \\'windchill_c\\': 11.5, \\'windchill_f\\': 52.7, \\'heatindex_c\\': 12.5, \\'heatindex_f\\': 54.5, \\'dewpoint_c\\': 8.1, \\'dewpoint_f\\': 46.7, \\'vis_km\\': 10.0, \\'vis_miles\\': 6.0, \\'uv\\': 1.0, \\'gust_mph\\': 9.9, \\'gust_kph\\': 15.9}}\"}, {\"url\": \"https://www.accuweather.com/en/us/san-francisco/94103/june-weather/347629\", \"content\": \"Get the monthly weather forecast for San Francisco, CA, including daily high/low, historical averages, to help you plan ahead.\"}]', name='tavily_search_results_json', tool_call_id='call_ASkhAhmgLN43wfZlVxr5wqHO')]}}\n",
      "----\n",
      "{'agent': {'messages': [AIMessage(content='The current weather in San Francisco, California is clear with a temperature of 12.5°C (54.5°F). The wind is coming from the west at 10.1 kph (6.3 mph). The humidity is at 76% and the visibility is 10 km (6 miles). [source](https://www.weatherapi.com/)', response_metadata={'token_usage': {'completion_tokens': 74, 'prompt_tokens': 587, 'total_tokens': 661}, 'model_name': 'gpt-4', 'system_fingerprint': None, 'finish_reason': 'stop', 'logprobs': None}, id='run-aaf14058-d703-4836-9f52-be6d051043ee-0', usage_metadata={'input_tokens': 587, 'output_tokens': 74, 'total_tokens': 661})]}}\n",
      "----\n"
     ]
    }
   ],
   "source": [
    "# streaming messages\n",
    "for chunk in agent_executor.stream(\n",
    "    {\"messages\": [HumanMessage(content=\"whats the weather in sf?\")]}\n",
    "):\n",
    "    print(chunk)\n",
    "    print(\"----\")"
   ]
  },
  {
   "cell_type": "code",
   "execution_count": 33,
   "metadata": {},
   "outputs": [
    {
     "name": "stderr",
     "output_type": "stream",
     "text": [
      "/Users/poom/Desktop/learning/langchain/env/lib/python3.9/site-packages/langchain_core/_api/beta_decorator.py:87: LangChainBetaWarning: This API is in beta and may change in the future.\n",
      "  warn_beta(\n"
     ]
    },
    {
     "name": "stdout",
     "output_type": "stream",
     "text": [
      "As| an| AI| language| model|,| I| don|'t| have| real|-time| capabilities| to| provide| current| weather| updates|.| However|,| you| can| check| the| weather| in| San| Francisco| by| using| a| weather| forecasting| website| or| app| like| the| National| Weather| Service|,| BBC| Weather|,| or| The| Weather| Channel|.| Alternatively|,| you| could| use| a| voice| assistant| device| like| Amazon|'s| Alexa|,| Google| Assistant|,| or| Apple|'s| Siri|,| which| can| provide| real|-time| weather| updates|.|"
     ]
    }
   ],
   "source": [
    "# streaming tokens\n",
    "# we can do this with the .astream_events method.\n",
    "# Python 3.11 or higher.\n",
    "async for event in agent_executor.astream_events(\n",
    "  {\"messages\": [HumanMessage(content=\"whats the weather in sf?\")]}, version=\"v1\"\n",
    "):\n",
    "  kind = event[\"event\"]\n",
    "  if kind == \"on_chain_start\":\n",
    "    if (\n",
    "      event[\"name\"] == \"Agent\"\n",
    "    ):  # Was assigned when creating the agent with `.with_config({\"run_name\": \"Agent\"})`\n",
    "      print(\n",
    "        f\"Starting agent: {event['name']} with input: {event['data'].get('input')}\"\n",
    "      )\n",
    "  elif kind == \"on_chain_end\":\n",
    "    if (\n",
    "      event[\"name\"] == \"Agent\"\n",
    "    ):  # Was assigned when creating the agent with `.with_config({\"run_name\": \"Agent\"})`\n",
    "      print()\n",
    "      print(\"--\")\n",
    "      print(f\"Done agent: {event['name']} with output: {event['data'].get('output')['output']}\")\n",
    "  if kind == \"on_chat_model_stream\":\n",
    "    content = event[\"data\"][\"chunk\"].content\n",
    "    if content:\n",
    "      # Empty content in the context of OpenAI means\n",
    "      # that the model is asking for a tool to be invoked.\n",
    "      # So we only print non-empty content\n",
    "      print(content, end=\"|\")\n",
    "  elif kind == \"on_tool_start\":\n",
    "    print(\"--\")\n",
    "    print(f\"Starting tool: {event['name']} with inputs: {event['data'].get('input')}\")\n",
    "  elif kind == \"on_tool_end\":\n",
    "    print(f\"Done tool: {event['name']}\")\n",
    "    print(f\"Tool output was: {event['data'].get('output')}\")\n",
    "    print(\"--\")"
   ]
  },
  {
   "cell_type": "markdown",
   "metadata": {},
   "source": [
    "## Adding memory\n",
    "Agent is stateless. This means it does not remember previous interactions. but we also have to pass in a thread_id when invoking the agent"
   ]
  },
  {
   "cell_type": "code",
   "execution_count": 34,
   "metadata": {},
   "outputs": [],
   "source": [
    "from langgraph.checkpoint.sqlite import SqliteSaver\n",
    "\n",
    "memory = SqliteSaver.from_conn_string(\":memory:\")"
   ]
  },
  {
   "cell_type": "code",
   "execution_count": 35,
   "metadata": {},
   "outputs": [],
   "source": [
    "agent_executor = create_react_agent(model, tools, checkpointer=memory)\n",
    "config = {\"configurable\": {\"thread_id\": \"abc123\"}}"
   ]
  },
  {
   "cell_type": "code",
   "execution_count": 36,
   "metadata": {},
   "outputs": [
    {
     "name": "stdout",
     "output_type": "stream",
     "text": [
      "{'agent': {'messages': [AIMessage(content='Hello Bob! How can I assist you today?', response_metadata={'token_usage': {'completion_tokens': 11, 'prompt_tokens': 85, 'total_tokens': 96}, 'model_name': 'gpt-4', 'system_fingerprint': None, 'finish_reason': 'stop', 'logprobs': None}, id='run-909d7efa-fd76-4f9f-9c3e-3b507b251d89-0', usage_metadata={'input_tokens': 85, 'output_tokens': 11, 'total_tokens': 96})]}}\n",
      "----\n"
     ]
    }
   ],
   "source": [
    "# tell the name to agent memory\n",
    "for chunk in agent_executor.stream(\n",
    "  {\"messages\": [HumanMessage(content=\"hi im bob!\")]}, config\n",
    "):\n",
    "  print(chunk)\n",
    "  print(\"----\")"
   ]
  },
  {
   "cell_type": "code",
   "execution_count": 37,
   "metadata": {},
   "outputs": [
    {
     "name": "stdout",
     "output_type": "stream",
     "text": [
      "{'agent': {'messages': [AIMessage(content='Your name is Bob.', response_metadata={'token_usage': {'completion_tokens': 6, 'prompt_tokens': 108, 'total_tokens': 114}, 'model_name': 'gpt-4', 'system_fingerprint': None, 'finish_reason': 'stop', 'logprobs': None}, id='run-ca1493e5-505c-47b6-88a6-38fc8d4d69e4-0', usage_metadata={'input_tokens': 108, 'output_tokens': 6, 'total_tokens': 114})]}}\n",
      "----\n"
     ]
    }
   ],
   "source": [
    "# ask the name from agent memory\n",
    "# but if you change the thread_id, it will not remember the name\n",
    "for chunk in agent_executor.stream(\n",
    "  {\"messages\": [HumanMessage(content=\"whats my name?\")]}, config\n",
    "):\n",
    "  print(chunk)\n",
    "  print(\"----\")"
   ]
  }
 ],
 "metadata": {
  "kernelspec": {
   "display_name": "env",
   "language": "python",
   "name": "python3"
  },
  "language_info": {
   "codemirror_mode": {
    "name": "ipython",
    "version": 3
   },
   "file_extension": ".py",
   "mimetype": "text/x-python",
   "name": "python",
   "nbconvert_exporter": "python",
   "pygments_lexer": "ipython3",
   "version": "3.9.6"
  }
 },
 "nbformat": 4,
 "nbformat_minor": 2
}
