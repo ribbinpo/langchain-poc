{
 "cells": [
  {
   "cell_type": "markdown",
   "metadata": {},
   "source": [
    "# How to use a model to call tools"
   ]
  },
  {
   "cell_type": "code",
   "execution_count": 9,
   "metadata": {},
   "outputs": [],
   "source": [
    "# https://python.langchain.com/v0.2/docs/how_to/tool_calling/\n",
    "# Passing tools to chat models\n",
    "# Chat models that support tool calling features implement a .bind_tools method\n",
    "from langchain_core.tools import tool\n",
    "\n",
    "@tool\n",
    "def add(a: int, b: int) -> int:\n",
    "  \"\"\"Adds a and b.\"\"\"\n",
    "  return a + b\n",
    "\n",
    "@tool\n",
    "def multiply(a: int, b: int) -> int:\n",
    "  \"\"\"Multiplies a and b.\"\"\"\n",
    "  return a * b\n",
    "\n",
    "tools = [add, multiply]"
   ]
  },
  {
   "cell_type": "code",
   "execution_count": 10,
   "metadata": {},
   "outputs": [],
   "source": [
    "import getpass\n",
    "import os\n",
    "\n",
    "os.environ[\"OPENAI_API_KEY\"] = getpass.getpass()\n",
    "\n",
    "from langchain_openai import ChatOpenAI\n",
    "llm = ChatOpenAI(model=\"gpt-4\")"
   ]
  },
  {
   "cell_type": "code",
   "execution_count": 11,
   "metadata": {},
   "outputs": [],
   "source": [
    "# use the .bind_tools() method to handle converting\n",
    "llm_with_tools = llm.bind_tools(tools)"
   ]
  },
  {
   "cell_type": "code",
   "execution_count": 13,
   "metadata": {},
   "outputs": [
    {
     "data": {
      "text/plain": [
       "AIMessage(content='', additional_kwargs={'tool_calls': [{'id': 'call_ICPQYEIISPCr73emrshlQhRm', 'function': {'arguments': '{\\n  \"a\": 2,\\n  \"b\": 4\\n}', 'name': 'multiply'}, 'type': 'function'}]}, response_metadata={'token_usage': {'completion_tokens': 16, 'prompt_tokens': 84, 'total_tokens': 100}, 'model_name': 'gpt-4', 'system_fingerprint': None, 'finish_reason': 'stop', 'logprobs': None}, id='run-c8c1155d-a24c-47ee-9968-64e4f1e89a30-0', tool_calls=[{'name': 'multiply', 'args': {'a': 2, 'b': 4}, 'id': 'call_ICPQYEIISPCr73emrshlQhRm'}], usage_metadata={'input_tokens': 84, 'output_tokens': 16, 'total_tokens': 100})"
      ]
     },
     "execution_count": 13,
     "metadata": {},
     "output_type": "execute_result"
    }
   ],
   "source": [
    "# can specify the tools to use with the tool_choice argument\n",
    "llm_forced_to_multiply = llm.bind_tools(tools, tool_choice=\"multiply\")\n",
    "llm_forced_to_multiply.invoke(\"what is 2 + 4\")"
   ]
  },
  {
   "cell_type": "code",
   "execution_count": 14,
   "metadata": {},
   "outputs": [
    {
     "data": {
      "text/plain": [
       "AIMessage(content='', additional_kwargs={'tool_calls': [{'id': 'call_jLPrhqvmLgtAsr1W8lakS1fD', 'function': {'arguments': '{\\n  \"a\": 3,\\n  \"b\": 7\\n}', 'name': 'add'}, 'type': 'function'}]}, response_metadata={'token_usage': {'completion_tokens': 19, 'prompt_tokens': 79, 'total_tokens': 98}, 'model_name': 'gpt-4', 'system_fingerprint': None, 'finish_reason': 'stop', 'logprobs': None}, id='run-e1ad7457-f45f-43aa-a57a-1a24e5c8662e-0', tool_calls=[{'name': 'add', 'args': {'a': 3, 'b': 7}, 'id': 'call_jLPrhqvmLgtAsr1W8lakS1fD'}], usage_metadata={'input_tokens': 79, 'output_tokens': 19, 'total_tokens': 98})"
      ]
     },
     "execution_count": 14,
     "metadata": {},
     "output_type": "execute_result"
    }
   ],
   "source": [
    "llm_forced_to_use_tool = llm.bind_tools(tools, tool_choice=\"any\")\n",
    "llm_forced_to_use_tool.invoke(\"What day is today?\")"
   ]
  },
  {
   "cell_type": "code",
   "execution_count": 16,
   "metadata": {},
   "outputs": [
    {
     "data": {
      "text/plain": [
       "[{'name': 'multiply',\n",
       "  'args': {'a': 3, 'b': 12},\n",
       "  'id': 'call_cAUgLN44vCS1JzWlosWlz9SU'}]"
      ]
     },
     "execution_count": 16,
     "metadata": {},
     "output_type": "execute_result"
    }
   ],
   "source": [
    "# tool calling\n",
    "\n",
    "query = \"What is 3 * 12? Also, what is 11 + 49?\"\n",
    "llm_with_tools.invoke(query).tool_calls"
   ]
  },
  {
   "cell_type": "code",
   "execution_count": 17,
   "metadata": {},
   "outputs": [
    {
     "name": "stdout",
     "output_type": "stream",
     "text": [
      "[{'name': 'multiply', 'args': '', 'id': 'call_8ujbSQ1l5vilIhZQaKMnYgkt', 'index': 0}]\n",
      "[{'name': None, 'args': '{\\n', 'id': None, 'index': 0}]\n",
      "[{'name': None, 'args': ' ', 'id': None, 'index': 0}]\n",
      "[{'name': None, 'args': ' \"', 'id': None, 'index': 0}]\n",
      "[{'name': None, 'args': 'a', 'id': None, 'index': 0}]\n",
      "[{'name': None, 'args': '\":', 'id': None, 'index': 0}]\n",
      "[{'name': None, 'args': ' ', 'id': None, 'index': 0}]\n",
      "[{'name': None, 'args': '3', 'id': None, 'index': 0}]\n",
      "[{'name': None, 'args': ',\\n', 'id': None, 'index': 0}]\n",
      "[{'name': None, 'args': ' ', 'id': None, 'index': 0}]\n",
      "[{'name': None, 'args': ' \"', 'id': None, 'index': 0}]\n",
      "[{'name': None, 'args': 'b', 'id': None, 'index': 0}]\n",
      "[{'name': None, 'args': '\":', 'id': None, 'index': 0}]\n",
      "[{'name': None, 'args': ' ', 'id': None, 'index': 0}]\n",
      "[{'name': None, 'args': '12', 'id': None, 'index': 0}]\n",
      "[{'name': None, 'args': '\\n', 'id': None, 'index': 0}]\n",
      "[{'name': None, 'args': '}', 'id': None, 'index': 0}]\n",
      "[]\n"
     ]
    }
   ],
   "source": [
    "async for chunk in llm_with_tools.astream(query):\n",
    "  print(chunk.tool_call_chunks)"
   ]
  },
  {
   "cell_type": "code",
   "execution_count": null,
   "metadata": {},
   "outputs": [],
   "source": []
  }
 ],
 "metadata": {
  "kernelspec": {
   "display_name": "env",
   "language": "python",
   "name": "python3"
  },
  "language_info": {
   "codemirror_mode": {
    "name": "ipython",
    "version": 3
   },
   "file_extension": ".py",
   "mimetype": "text/x-python",
   "name": "python",
   "nbconvert_exporter": "python",
   "pygments_lexer": "ipython3",
   "version": "3.9.6"
  }
 },
 "nbformat": 4,
 "nbformat_minor": 2
}
